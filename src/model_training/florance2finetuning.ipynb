{
 "cells": [
  {
   "cell_type": "markdown",
   "metadata": {},
   "source": [
    "# Setup and Installation\n",
    "Install necessary libraries and dependencies, including the Florence 2 model and any required frameworks like PyTorch."
   ]
  },
  {
   "cell_type": "code",
   "execution_count": null,
   "metadata": {},
   "outputs": [],
   "source": [
    "# Ensure pip is up-to-date\n",
    "!pip install --upgrade pip\n",
    "\n",
    "# Install PyTorch\n",
    "!pip install torch torchvision torchaudio\n",
    "\n",
    "# Install Hugging Face's transformers library for accessing Florence models\n",
    "!pip install transformers\n",
    "\n",
    "# Install additional libraries for data manipulation and visualization\n",
    "!pip install numpy pandas matplotlib seaborn\n",
    "\n",
    "# Verify installation by importing the libraries\n",
    "import torch\n",
    "from transformers import AutoModelForImageClassification, AutoTokenizer\n",
    "\n",
    "# Check if CUDA is available for GPU acceleration\n",
    "print(\"CUDA available: \", torch.cuda.is_available())"
   ]
  },
  {
   "cell_type": "markdown",
   "metadata": {},
   "source": [
    "# Load and Prepare Dataset\n",
    "Load the dataset for object detection and classification. Preprocess the images and annotations to fit the model's input requirements."
   ]
  },
  {
   "cell_type": "code",
   "execution_count": null,
   "metadata": {},
   "outputs": [],
   "source": [
    "from torchvision import transforms\n",
    "from torchvision.datasets import ImageFolder\n",
    "from torch.utils.data import DataLoader\n",
    "import os\n",
    "\n",
    "# Define the path to your dataset\n",
    "dataset_path = \"path/to/your/dataset\"\n",
    "\n",
    "# Define transformations for the images\n",
    "transformations = transforms.Compose([\n",
    "    transforms.Resize((224, 224)),  # Resize images to fit the model's input size requirements\n",
    "    transforms.ToTensor(),  # Convert images to PyTorch tensors\n",
    "    transforms.Normalize(mean=[0.485, 0.456, 0.406], std=[0.229, 0.224, 0.225])  # Normalize images\n",
    "])\n",
    "\n",
    "# Load the dataset using ImageFolder, assuming images are organized in folders by class\n",
    "dataset = ImageFolder(root=dataset_path, transform=transformations)\n",
    "\n",
    "# Split the dataset into training and validation sets\n",
    "train_size = int(0.8 * len(dataset))\n",
    "val_size = len(dataset) - train_size\n",
    "train_dataset, val_dataset = torch.utils.data.random_split(dataset, [train_size, val_size])\n",
    "\n",
    "# Create DataLoaders for training and validation sets\n",
    "batch_size = 32  # You can adjust the batch size\n",
    "train_loader = DataLoader(train_dataset, batch_size=batch_size, shuffle=True)\n",
    "val_loader = DataLoader(val_dataset, batch_size=batch_size, shuffle=False)\n",
    "\n",
    "# Print dataset information\n",
    "print(f\"Total dataset size: {len(dataset)}\")\n",
    "print(f\"Training set size: {len(train_dataset)}\")\n",
    "print(f\"Validation set size: {len(val_dataset)}\")"
   ]
  },
  {
   "cell_type": "markdown",
   "metadata": {},
   "source": [
    "# Initialize Florence 2 Model\n",
    "Load the pre-trained Florence 2 model and prepare it for fine-tuning by setting up the appropriate configurations."
   ]
  },
  {
   "cell_type": "code",
   "execution_count": null,
   "metadata": {},
   "outputs": [],
   "source": [
    "# Load the pre-trained Florence 2 model\n",
    "model_name = \"microsoft/florence-base-1\"\n",
    "model = AutoModelForImageClassification.from_pretrained(model_name)\n",
    "\n",
    "# Prepare the model for fine-tuning\n",
    "model.train()\n",
    "\n",
    "# Check if a GPU is available and move the model to GPU if it is\n",
    "device = torch.device(\"cuda\" if torch.cuda.is_available() else \"cpu\")\n",
    "model.to(device)\n",
    "\n",
    "# Print the model's device to confirm it's set correctly\n",
    "print(f\"Model is using device: {device}\")"
   ]
  },
  {
   "cell_type": "markdown",
   "metadata": {},
   "source": [
    "# Fine-Tuning the Model\n",
    "Fine-tune the Florence 2 model on the prepared dataset, adjusting hyperparameters as necessary for optimal performance."
   ]
  },
  {
   "cell_type": "code",
   "execution_count": null,
   "metadata": {},
   "outputs": [],
   "source": [
    "# Define the loss function and optimizer\n",
    "criterion = torch.nn.CrossEntropyLoss()\n",
    "optimizer = torch.optim.Adam(model.parameters(), lr=0.001)  # Learning rate can be adjusted\n",
    "\n",
    "# Define the number of epochs for training\n",
    "num_epochs = 10  # Number of epochs can be adjusted\n",
    "\n",
    "# Training loop\n",
    "for epoch in range(num_epochs):\n",
    "    model.train()  # Set the model to training mode\n",
    "    running_loss = 0.0\n",
    "    for images, labels in train_loader:\n",
    "        images, labels = images.to(device), labels.to(device)  # Move data to the device\n",
    "        \n",
    "        optimizer.zero_grad()  # Zero the parameter gradients\n",
    "        outputs = model(images)  # Forward pass\n",
    "        loss = criterion(outputs.logits, labels)  # Calculate loss\n",
    "        loss.backward()  # Backward pass\n",
    "        optimizer.step()  # Optimize\n",
    "        \n",
    "        running_loss += loss.item() * images.size(0)\n",
    "    \n",
    "    epoch_loss = running_loss / len(train_loader.dataset)\n",
    "    print(f\"Epoch {epoch+1}/{num_epochs}, Loss: {epoch_loss:.4f}\")\n",
    "\n",
    "    # Validation loop\n",
    "    model.eval()  # Set the model to evaluation mode\n",
    "    val_running_loss = 0.0\n",
    "    with torch.no_grad():  # Inference mode, gradients not needed\n",
    "        for images, labels in val_loader:\n",
    "            images, labels = images.to(device), labels.to(device)\n",
    "            outputs = model(images)\n",
    "            loss = criterion(outputs.logits, labels)\n",
    "            val_running_loss += loss.item() * images.size(0)\n",
    "    \n",
    "    val_epoch_loss = val_running_loss / len(val_loader.dataset)\n",
    "    print(f\"Validation Loss: {val_epoch_loss:.4f}\")"
   ]
  },
  {
   "cell_type": "markdown",
   "metadata": {},
   "source": [
    "# Model Evaluation\n",
    "Evaluate the fine-tuned model's performance on a validation or test set to measure its accuracy and efficiency in object detection and classification."
   ]
  },
  {
   "cell_type": "code",
   "execution_count": null,
   "metadata": {},
   "outputs": [],
   "source": [
    "# Model Evaluation\n",
    "\n",
    "# Calculate accuracy on validation set\n",
    "correct = 0\n",
    "total = 0\n",
    "with torch.no_grad():  # Inference mode, gradients not needed\n",
    "    for images, labels in val_loader:\n",
    "        images, labels = images.to(device), labels.to(device)\n",
    "        outputs = model(images)\n",
    "        _, predicted = torch.max(outputs.logits, 1)\n",
    "        total += labels.size(0)\n",
    "        correct += (predicted == labels).sum().item()\n",
    "\n",
    "accuracy = 100 * correct / total\n",
    "print(f'Accuracy of the model on the validation images: {accuracy:.2f}%')\n",
    "\n",
    "# Calculate and display confusion matrix\n",
    "from sklearn.metrics import confusion_matrix\n",
    "import seaborn as sns\n",
    "import matplotlib.pyplot as plt\n",
    "import numpy as np\n",
    "\n",
    "all_labels = []\n",
    "all_preds = []\n",
    "with torch.no_grad():\n",
    "    for images, labels in val_loader:\n",
    "        images, labels = images.to(device), labels.to(device)\n",
    "        outputs = model(images)\n",
    "        _, preds = torch.max(outputs.logits, 1)\n",
    "        all_labels.extend(labels.cpu().numpy())\n",
    "        all_preds.extend(preds.cpu().numpy())\n",
    "\n",
    "cm = confusion_matrix(all_labels, all_preds)\n",
    "plt.figure(figsize=(10,10))\n",
    "sns.heatmap(cm, annot=True, fmt=\"d\", cmap='Blues')\n",
    "plt.xlabel('Predicted labels')\n",
    "plt.ylabel('True labels')\n",
    "plt.title('Confusion Matrix')\n",
    "plt.show()\n",
    "\n",
    "# Calculate precision, recall, and F1-score\n",
    "from sklearn.metrics import classification_report\n",
    "print(classification_report(all_labels, all_preds, target_names=dataset.classes))"
   ]
  },
  {
   "cell_type": "markdown",
   "metadata": {},
   "source": [
    "# Visualize Predictions\n",
    "Visualize the model's predictions on sample images from the dataset to demonstrate its object detection and classification capabilities."
   ]
  },
  {
   "cell_type": "code",
   "execution_count": null,
   "metadata": {},
   "outputs": [],
   "source": [
    "# Visualize Predictions\n",
    "\n",
    "# Select a few images from the validation set\n",
    "images, labels = next(iter(val_loader))\n",
    "images, labels = images.to(device), labels.to(device)\n",
    "\n",
    "# Get predictions from the model\n",
    "model.eval()  # Set the model to evaluation mode\n",
    "with torch.no_grad():\n",
    "    outputs = model(images)\n",
    "    _, preds = torch.max(outputs.logits, 1)\n",
    "\n",
    "# Function to display images\n",
    "def imshow(inp, title=None):\n",
    "    \"\"\"Imshow for Tensor.\"\"\"\n",
    "    inp = inp.numpy().transpose((1, 2, 0))\n",
    "    mean = np.array([0.485, 0.456, 0.406])\n",
    "    std = np.array([0.229, 0.224, 0.225])\n",
    "    inp = std * inp + mean\n",
    "    inp = np.clip(inp, 0, 1)\n",
    "    plt.figure(figsize=(15, 15))\n",
    "    plt.imshow(inp)\n",
    "    if title is not None:\n",
    "        plt.title(title)\n",
    "    plt.pause(0.001)  # pause a bit so that plots are updated\n",
    "\n",
    "# Display images along with predicted labels\n",
    "out = torchvision.utils.make_grid(images.cpu())\n",
    "imshow(out, title=[dataset.classes[x] for x in preds])"
   ]
  }
 ],
 "metadata": {
  "language_info": {
   "name": "python"
  }
 },
 "nbformat": 4,
 "nbformat_minor": 2
}
