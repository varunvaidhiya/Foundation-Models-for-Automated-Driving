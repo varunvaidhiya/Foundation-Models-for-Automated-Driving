{
 "cells": [
  {
   "cell_type": "code",
   "execution_count": 3,
   "id": "4575673a-ffcb-4f43-bea9-8eb18e0370b6",
   "metadata": {},
   "outputs": [
    {
     "name": "stdout",
     "output_type": "stream",
     "text": [
      "C:\\Users\\varun\\Desktop\\Projects\\SCAV\\SAM\\segment-anything-2\n",
      "Obtaining file:///C:/Users/varun/Desktop/Projects/SCAV/SAM/segment-anything-2\n",
      "  Installing build dependencies: started\n",
      "  Installing build dependencies: still running...\n",
      "  Installing build dependencies: finished with status 'done'\n",
      "  Checking if build backend supports build_editable: started\n",
      "  Checking if build backend supports build_editable: finished with status 'done'\n",
      "  Getting requirements to build editable: started\n",
      "  Getting requirements to build editable: finished with status 'error'\n"
     ]
    },
    {
     "name": "stderr",
     "output_type": "stream",
     "text": [
      "  error: subprocess-exited-with-error\n",
      "  \n",
      "  Getting requirements to build editable did not run successfully.\n",
      "  exit code: 1\n",
      "  \n",
      "  [26 lines of output]\n",
      "  C:\\Users\\varun\\AppData\\Local\\Temp\\pip-build-env-mjeeaiu3\\overlay\\Lib\\site-packages\\torch\\_subclasses\\functional_tensor.py:258: UserWarning: Failed to initialize NumPy: No module named 'numpy' (Triggered internally at C:\\actions-runner\\_work\\pytorch\\pytorch\\builder\\windows\\pytorch\\torch\\csrc\\utils\\tensor_numpy.cpp:84.)\n",
      "    cpu = _conversion_method_template(device=torch.device(\"cpu\"))\n",
      "  Traceback (most recent call last):\n",
      "    File \"C:\\Users\\varun\\anaconda3\\lib\\site-packages\\pip\\_vendor\\pyproject_hooks\\_in_process\\_in_process.py\", line 353, in <module>\n",
      "      main()\n",
      "    File \"C:\\Users\\varun\\anaconda3\\lib\\site-packages\\pip\\_vendor\\pyproject_hooks\\_in_process\\_in_process.py\", line 335, in main\n",
      "      json_out['return_val'] = hook(**hook_input['kwargs'])\n",
      "    File \"C:\\Users\\varun\\anaconda3\\lib\\site-packages\\pip\\_vendor\\pyproject_hooks\\_in_process\\_in_process.py\", line 132, in get_requires_for_build_editable\n",
      "      return hook(config_settings)\n",
      "    File \"C:\\Users\\varun\\AppData\\Local\\Temp\\pip-build-env-mjeeaiu3\\overlay\\Lib\\site-packages\\setuptools\\build_meta.py\", line 458, in get_requires_for_build_editable\n",
      "      return self.get_requires_for_build_wheel(config_settings)\n",
      "    File \"C:\\Users\\varun\\AppData\\Local\\Temp\\pip-build-env-mjeeaiu3\\overlay\\Lib\\site-packages\\setuptools\\build_meta.py\", line 327, in get_requires_for_build_wheel\n",
      "      return self._get_build_requires(config_settings, requirements=[])\n",
      "    File \"C:\\Users\\varun\\AppData\\Local\\Temp\\pip-build-env-mjeeaiu3\\overlay\\Lib\\site-packages\\setuptools\\build_meta.py\", line 297, in _get_build_requires\n",
      "      self.run_setup()\n",
      "    File \"C:\\Users\\varun\\AppData\\Local\\Temp\\pip-build-env-mjeeaiu3\\overlay\\Lib\\site-packages\\setuptools\\build_meta.py\", line 313, in run_setup\n",
      "      exec(code, locals())\n",
      "    File \"<string>\", line 70, in <module>\n",
      "    File \"<string>\", line 51, in get_extensions\n",
      "    File \"C:\\Users\\varun\\AppData\\Local\\Temp\\pip-build-env-mjeeaiu3\\overlay\\Lib\\site-packages\\torch\\utils\\cpp_extension.py\", line 1076, in CUDAExtension\n",
      "      library_dirs += library_paths(cuda=True)\n",
      "    File \"C:\\Users\\varun\\AppData\\Local\\Temp\\pip-build-env-mjeeaiu3\\overlay\\Lib\\site-packages\\torch\\utils\\cpp_extension.py\", line 1214, in library_paths\n",
      "      paths.append(_join_cuda_home(lib_dir))\n",
      "    File \"C:\\Users\\varun\\AppData\\Local\\Temp\\pip-build-env-mjeeaiu3\\overlay\\Lib\\site-packages\\torch\\utils\\cpp_extension.py\", line 2416, in _join_cuda_home\n",
      "      raise OSError('CUDA_HOME environment variable is not set. '\n",
      "  OSError: CUDA_HOME environment variable is not set. Please set it to your CUDA install root.\n",
      "  [end of output]\n",
      "  \n",
      "  note: This error originates from a subprocess, and is likely not a problem with pip.\n",
      "error: subprocess-exited-with-error\n",
      "\n",
      "Getting requirements to build editable did not run successfully.\n",
      "exit code: 1\n",
      "\n",
      "See above for output.\n",
      "\n",
      "note: This error originates from a subprocess, and is likely not a problem with pip.\n"
     ]
    }
   ],
   "source": [
    "\n",
    "%cd segment-anything-2\n",
    "!pip install -e ."
   ]
  },
  {
   "cell_type": "code",
   "execution_count": 1,
   "id": "c1897337-8810-424d-99c3-83c49b40799b",
   "metadata": {},
   "outputs": [
    {
     "name": "stdout",
     "output_type": "stream",
     "text": [
      "2.4.0\n"
     ]
    }
   ],
   "source": [
    "import torch\n",
    "\n",
    "print(torch.__version__)\n"
   ]
  },
  {
   "cell_type": "code",
   "execution_count": 5,
   "id": "fa2834b0-8d4d-461e-a565-e955445e07b1",
   "metadata": {},
   "outputs": [
    {
     "name": "stdout",
     "output_type": "stream",
     "text": [
      "3.9.19 (main, May  6 2024, 20:12:36) [MSC v.1916 64 bit (AMD64)]\n"
     ]
    }
   ],
   "source": [
    "import sys\n",
    "print(sys.version)\n"
   ]
  },
  {
   "cell_type": "code",
   "execution_count": 7,
   "id": "bdd85c26-b6a1-4132-8af9-b745494c3fdf",
   "metadata": {},
   "outputs": [
    {
     "ename": "SyntaxError",
     "evalue": "invalid syntax (3505189662.py, line 1)",
     "output_type": "error",
     "traceback": [
      "\u001b[1;36m  File \u001b[1;32m\"C:\\Users\\varun\\AppData\\Local\\Temp\\ipykernel_25984\\3505189662.py\"\u001b[1;36m, line \u001b[1;32m1\u001b[0m\n\u001b[1;33m    python -m ensurepip\u001b[0m\n\u001b[1;37m              ^\u001b[0m\n\u001b[1;31mSyntaxError\u001b[0m\u001b[1;31m:\u001b[0m invalid syntax\n"
     ]
    }
   ],
   "source": [
    "python -m ensurepip"
   ]
  },
  {
   "cell_type": "code",
   "execution_count": null,
   "id": "908143c5-fd43-4047-8b72-c2adbf75dfe8",
   "metadata": {},
   "outputs": [],
   "source": []
  }
 ],
 "metadata": {
  "kernelspec": {
   "display_name": "Python 3 (ipykernel)",
   "language": "python",
   "name": "python3"
  },
  "language_info": {
   "codemirror_mode": {
    "name": "ipython",
    "version": 3
   },
   "file_extension": ".py",
   "mimetype": "text/x-python",
   "name": "python",
   "nbconvert_exporter": "python",
   "pygments_lexer": "ipython3",
   "version": "3.12.4"
  }
 },
 "nbformat": 4,
 "nbformat_minor": 5
}
