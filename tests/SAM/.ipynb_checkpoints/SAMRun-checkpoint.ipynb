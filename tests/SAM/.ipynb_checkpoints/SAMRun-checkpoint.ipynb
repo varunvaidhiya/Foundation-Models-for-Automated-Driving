{
 "cells": [
  {
   "cell_type": "code",
   "execution_count": 1,
   "id": "b6a37818-a6d3-4be0-a63e-9941ca0ccb75",
   "metadata": {
    "scrolled": true
   },
   "outputs": [
    {
     "name": "stdout",
     "output_type": "stream",
     "text": [
      "C:\\Users\\varun\\Desktop\\Projects\\SCAV\\SAM\\segment-anything\n"
     ]
    }
   ],
   "source": [
    "cd segment-anything"
   ]
  },
  {
   "cell_type": "code",
   "execution_count": 15,
   "id": "9d4e5e46-c4b1-4b55-b95b-b0141a146d8b",
   "metadata": {},
   "outputs": [],
   "source": [
    "from segment_anything import sam_model_registry\n",
    "checkpoint_path=\"C:\\\\Users\\\\varun\\\\Desktop\\\\Projects\\\\SCAV\\\\SAM\\\\segment-anything\\\\checkpoint\\\\sam_vit_h_4b8939.pth\"\n",
    "state_dict = torch.load(checkpoint_path, weights_only=True)\n",
    "sam = sam_model_registry[\"vit_h\"](checkpoint=checkpoint_path)"
   ]
  },
  {
   "cell_type": "code",
   "execution_count": 3,
   "id": "c3f348aa-5412-416d-bc4f-42e4c0c3605b",
   "metadata": {},
   "outputs": [
    {
     "ename": "SyntaxError",
     "evalue": "invalid syntax (377740346.py, line 4)",
     "output_type": "error",
     "traceback": [
      "\u001b[1;36m  File \u001b[1;32m\"C:\\Users\\varun\\AppData\\Local\\Temp\\ipykernel_34472\\377740346.py\"\u001b[1;36m, line \u001b[1;32m4\u001b[0m\n\u001b[1;33m    predictor.set_image(<your_image>)\u001b[0m\n\u001b[1;37m                        ^\u001b[0m\n\u001b[1;31mSyntaxError\u001b[0m\u001b[1;31m:\u001b[0m invalid syntax\n"
     ]
    }
   ],
   "source": [
    "from segment_anything import SamPredictor, sam_model_registry\n",
    "sam = sam_model_registry[\"<model_type>\"](checkpoint=\"<path/to/checkpoint>\")\n",
    "predictor = SamPredictor(sam)\n",
    "predictor.set_image(<your_image>)\n",
    "masks, _, _ = predictor.predict(<input_prompts>)"
   ]
  },
  {
   "cell_type": "code",
   "execution_count": null,
   "id": "8ae71ff0-54ef-4938-b995-6146b1a677e8",
   "metadata": {},
   "outputs": [],
   "source": []
  },
  {
   "cell_type": "code",
   "execution_count": null,
   "id": "5e5306ef-7d5c-4026-bd54-1947745dd40c",
   "metadata": {},
   "outputs": [],
   "source": []
  }
 ],
 "metadata": {
  "kernelspec": {
   "display_name": "Python 3 (ipykernel)",
   "language": "python",
   "name": "python3"
  },
  "language_info": {
   "codemirror_mode": {
    "name": "ipython",
    "version": 3
   },
   "file_extension": ".py",
   "mimetype": "text/x-python",
   "name": "python",
   "nbconvert_exporter": "python",
   "pygments_lexer": "ipython3",
   "version": "3.9.19"
  }
 },
 "nbformat": 4,
 "nbformat_minor": 5
}
